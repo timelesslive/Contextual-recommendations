{
 "cells": [
  {
   "cell_type": "code",
   "execution_count": 28,
   "metadata": {},
   "outputs": [
    {
     "name": "stdout",
     "output_type": "stream",
     "text": [
      "[{'Age': 24,\n",
      "  'Birth': 1995,\n",
      "  'Browse': [1, 2, 2, 4, 5, 6],\n",
      "  'BrowserTime': 300,\n",
      "  'City': '北京',\n",
      "  'Collection': [5, 3, 3, 4],\n",
      "  'Datetime': '2024-09-01 14:30',\n",
      "  'Education': '本科',\n",
      "  'Gender': '男性',\n",
      "  'Humidity': 60,\n",
      "  'Interest': '音乐',\n",
      "  'Major': '计算机科学与技术',\n",
      "  'Marital': '未婚',\n",
      "  'Month': 9,\n",
      "  'Name': '张三',\n",
      "  'Noise': 39,\n",
      "  'Parttime': '下午',\n",
      "  'PosType': '科技',\n",
      "  'Renewal': [1, 3],\n",
      "  'Reservation': [1, 3],\n",
      "  'Search': '深度学习与推荐系统',\n",
      "  'Temp': 25,\n",
      "  'UserId': 0,\n",
      "  'Weather': '晴',\n",
      "  'Weekdays': '周一',\n",
      "  'Windscale': 2},\n",
      " {'Age': 45,\n",
      "  'Birth': 1982,\n",
      "  'Browse': [12, 9, 9, 10, 11],\n",
      "  'BrowserTime': 180,\n",
      "  'City': '武汉',\n",
      "  'Collection': [9, 10, 11, 12, 13],\n",
      "  'Datetime': '2024-09-02 10:45',\n",
      "  'Education': '硕士',\n",
      "  'Gender': '女性',\n",
      "  'Humidity': 70,\n",
      "  'Interest': '阅读',\n",
      "  'Major': '市场营销',\n",
      "  'Marital': '已婚',\n",
      "  'Month': 9,\n",
      "  'Name': '李四',\n",
      "  'Noise': 50,\n",
      "  'Parttime': '上午',\n",
      "  'PosType': '历史',\n",
      "  'Renewal': [10, 11],\n",
      "  'Reservation': [9, 10],\n",
      "  'Search': '我国古代四大名著',\n",
      "  'Temp': 11,\n",
      "  'UserId': 1,\n",
      "  'Weather': '多云',\n",
      "  'Weekdays': '周二',\n",
      "  'Windscale': 3},\n",
      " {'Age': 15,\n",
      "  'Birth': 2006,\n",
      "  'Browse': [2, 3, 4, 5, 3, 6, 7],\n",
      "  'BrowserTime': 250,\n",
      "  'City': '上海',\n",
      "  'Collection': [3, 4, 5, 3, 4],\n",
      "  'Datetime': '2024-09-02 20:00',\n",
      "  'Education': '本科',\n",
      "  'Gender': '男性',\n",
      "  'Humidity': 80,\n",
      "  'Interest': '游戏',\n",
      "  'Major': '软件工程',\n",
      "  'Marital': '未婚',\n",
      "  'Month': 9,\n",
      "  'Name': '王五',\n",
      "  'Noise': 29,\n",
      "  'Parttime': '夜晚',\n",
      "  'PosType': '文学',\n",
      "  'Renewal': [2, 3],\n",
      "  'Reservation': [4, 5],\n",
      "  'Search': '孙悟空唐僧',\n",
      "  'Temp': 1,\n",
      "  'UserId': 2,\n",
      "  'Weather': '雨',\n",
      "  'Weekdays': '周三',\n",
      "  'Windscale': 5},\n",
      " {'Age': 21,\n",
      "  'Birth': 1998,\n",
      "  'Browse': [13, 14, 12, 12, 13],\n",
      "  'BrowserTime': 400,\n",
      "  'City': '广州',\n",
      "  'Collection': [12, 15],\n",
      "  'Datetime': '2024-09-03 12:15',\n",
      "  'Education': '硕士',\n",
      "  'Gender': '女性',\n",
      "  'Humidity': 40,\n",
      "  'Interest': '电影',\n",
      "  'Major': '法学',\n",
      "  'Marital': '未婚',\n",
      "  'Month': 9,\n",
      "  'Name': '赵六',\n",
      "  'Noise': 8,\n",
      "  'Parttime': '中午',\n",
      "  'PosType': '文学',\n",
      "  'Renewal': [14, 15],\n",
      "  'Reservation': [13, 14],\n",
      "  'Search': '逍遥游庄子',\n",
      "  'Temp': 31,\n",
      "  'UserId': 3,\n",
      "  'Weather': '晴',\n",
      "  'Weekdays': '周四',\n",
      "  'Windscale': 1},\n",
      " {'Age': 55,\n",
      "  'Birth': 1968,\n",
      "  'Browse': [10, 12, 13, 14, 15],\n",
      "  'BrowserTime': 150,\n",
      "  'City': '深圳',\n",
      "  'Collection': [15, 10, 12, 13, 14],\n",
      "  'Datetime': '2024-09-03 18:30',\n",
      "  'Education': '博士',\n",
      "  'Gender': '男性',\n",
      "  'Humidity': 55,\n",
      "  'Interest': '旅行',\n",
      "  'Major': '能源与动力',\n",
      "  'Marital': '已婚',\n",
      "  'Month': 9,\n",
      "  'Name': '田七',\n",
      "  'Noise': 50,\n",
      "  'Parttime': '下午',\n",
      "  'PosType': '历史',\n",
      "  'Renewal': [12, 14],\n",
      "  'Reservation': [12, 13],\n",
      "  'Search': '我国古代历史名著',\n",
      "  'Temp': 22,\n",
      "  'UserId': 4,\n",
      "  'Weather': '多云',\n",
      "  'Weekdays': '周五',\n",
      "  'Windscale': 4}]\n"
     ]
    }
   ],
   "source": [
    "import json\n",
    "import pprint\n",
    "import pandas as pd \n",
    "import numpy as np\n",
    "import json\n",
    "from sklearn.preprocessing import LabelEncoder, MinMaxScaler\n",
    "import torch\n",
    "from torch.utils.data import Dataset, DataLoader\n",
    "\n",
    "with open('user_info.json', 'r', encoding='utf-8') as file:\n",
    "    user_data = json.load(file)\n",
    "\n",
    "pprint.pprint(user_data)\n",
    "df = pd.DataFrame(user_data)\n",
    "# print(df['Renewal'])"
   ]
  },
  {
   "cell_type": "markdown",
   "metadata": {},
   "source": [
    "## 首先处理DIN网络的输入"
   ]
  },
  {
   "cell_type": "markdown",
   "metadata": {},
   "source": [
    "### 预定义一些要用到的函数"
   ]
  },
  {
   "cell_type": "code",
   "execution_count": 29,
   "metadata": {},
   "outputs": [],
   "source": [
    "# 定义一个新的dataframe， 存储处理后的数据\n",
    "din_input = pd.DataFrame()"
   ]
  },
  {
   "cell_type": "code",
   "execution_count": 30,
   "metadata": {},
   "outputs": [],
   "source": [
    "def label_encode_column(df, column_name):\n",
    "    le = LabelEncoder()\n",
    "    df[column_name + '_encoded'] = le.fit_transform(df[column_name])\n",
    "    return le\n",
    "\n",
    "def pad_sequence_list(seq_list, max_len):\n",
    "    return [seq + [0]*(max_len - len(seq)) if len(seq) < max_len else seq[:max_len] for seq in seq_list]"
   ]
  },
  {
   "cell_type": "markdown",
   "metadata": {},
   "source": [
    "### 输入din的第一部分：user behaviors"
   ]
  },
  {
   "cell_type": "code",
   "execution_count": 31,
   "metadata": {},
   "outputs": [
    {
     "name": "stdout",
     "output_type": "stream",
     "text": [
      "   curBook  positiveSample                                        bookHistory\n",
      "0        1               3  [1, 2, 2, 4, 5, 6, 1, 3, 5, 3, 3, 4, 0, 0, 0, ...\n",
      "1        9              10  [12, 9, 9, 10, 11, 10, 11, 9, 10, 11, 12, 13, ...\n",
      "2        4               5  [2, 3, 4, 5, 3, 6, 7, 2, 3, 3, 4, 5, 3, 4, 0, ...\n",
      "3       13              14  [13, 14, 12, 12, 13, 14, 15, 12, 15, 0, 0, 0, ...\n",
      "4       12              13  [10, 12, 13, 14, 15, 12, 14, 15, 10, 12, 13, 1...\n"
     ]
    }
   ],
   "source": [
    "# Renewal : 用户续订的书籍列表\n",
    "# Reservation ： 用户预约的书籍列表\n",
    "# Collection: 用户收藏的书籍列表\n",
    "# Browse : 用户浏览过的书籍，弱交互\n",
    "import torch\n",
    "from torch.nn.utils.rnn import pad_sequence\n",
    "\n",
    "# 定义序列的最大长度\n",
    "max_seq_length = 50  # 可以根据数据情况调整\n",
    "\n",
    "# TODO:这里假设我们已经获得了用户的操作序列\n",
    "# 先合并，再拆分为 ： 历史序列，当前正在看的书籍，下一个正样本书籍\n",
    "history = df['Browse']+df['Renewal']+df['Collection']+df['Reservation']\n",
    "din_input['curBook'] = history.apply(lambda x: x[-2] if len(x) > 1 else None)\n",
    "din_input['positiveSample'] = history.apply(lambda x: x[-1] if len(x) > 0 else None)\n",
    "filterHistory = history.apply(lambda x: x[:-2] if len(x) > 2 else [])\n",
    "concatResult = pad_sequence_list(filterHistory, max_seq_length)\n",
    "din_input['bookHistory'] = concatResult\n",
    "print(din_input)"
   ]
  },
  {
   "cell_type": "markdown",
   "metadata": {},
   "source": [
    "### 情景化特征：连续值的处理（时长相关）"
   ]
  },
  {
   "cell_type": "code",
   "execution_count": 32,
   "metadata": {},
   "outputs": [
    {
     "name": "stdout",
     "output_type": "stream",
     "text": [
      "Index(['Name', 'UserId', 'Gender', 'Age', 'Birth', 'Education', 'Major',\n",
      "       'Marital', 'Interest', 'Search', 'Browse', 'Collection', 'Reservation',\n",
      "       'Renewal', 'Datetime', 'Month', 'Weekdays', 'Parttime', 'PosType',\n",
      "       'Weather', 'Temp', 'Humidity', 'Windscale', 'Noise', 'BrowserTime',\n",
      "       'City'],\n",
      "      dtype='object')\n",
      "9\n"
     ]
    }
   ],
   "source": [
    "# 先查看一下目前有什么特征值\n",
    "print(df.columns)\n",
    "print(df['Month'][0])"
   ]
  },
  {
   "cell_type": "code",
   "execution_count": 33,
   "metadata": {},
   "outputs": [
    {
     "name": "stdout",
     "output_type": "stream",
     "text": [
      "   curBook  positiveSample                                        bookHistory   \n",
      "0        1               3  [1, 2, 2, 4, 5, 6, 1, 3, 5, 3, 3, 4, 0, 0, 0, ...  \\\n",
      "1        9              10  [12, 9, 9, 10, 11, 10, 11, 9, 10, 11, 12, 13, ...   \n",
      "2        4               5  [2, 3, 4, 5, 3, 6, 7, 2, 3, 3, 4, 5, 3, 4, 0, ...   \n",
      "3       13              14  [13, 14, 12, 12, 13, 14, 15, 12, 15, 0, 0, 0, ...   \n",
      "4       12              13  [10, 12, 13, 14, 15, 12, 14, 15, 10, 12, 13, 1...   \n",
      "\n",
      "   BrowserTime  Datetime  \n",
      "0         0.60  0.604167  \n",
      "1         0.12  0.447917  \n",
      "2         0.40  0.833333  \n",
      "3         1.00  0.510417  \n",
      "4         0.00  0.770833  \n"
     ]
    }
   ],
   "source": [
    "# 1. BrowserTime : 停留时间，以秒计时 。能表示用户当前总体的借书欲望 。为用户浏览的最后一本书的停留时长，以及最后一本的打开时间\n",
    "# 需要归一化到 [0, 1] 范围\n",
    "scaler_browser = MinMaxScaler()\n",
    "BrowserTime_norm = scaler_browser.fit_transform(df[['BrowserTime']])\n",
    "din_input['BrowserTime'] = BrowserTime_norm.flatten()\n",
    "\n",
    "# 2. Datetime : 用户浏览的绝对时间,每天是一个循环，用分钟表示单日时间\n",
    "df['Datetime'] = pd.to_datetime(df['Datetime'])\n",
    "Hour = df['Datetime'].dt.hour\n",
    "Minute = df['Datetime'].dt.minute\n",
    "times = Hour* 60 + Minute\n",
    "din_input['Datetime'] = times / 1440.0\n",
    "print(din_input)"
   ]
  },
  {
   "cell_type": "markdown",
   "metadata": {},
   "source": [
    "### 情景化特征：其他离散的 context feature 处理"
   ]
  },
  {
   "cell_type": "code",
   "execution_count": 34,
   "metadata": {},
   "outputs": [
    {
     "name": "stdout",
     "output_type": "stream",
     "text": [
      "   curBook  positiveSample                                        bookHistory   \n",
      "0        1               3  [1, 2, 2, 4, 5, 6, 1, 3, 5, 3, 3, 4, 0, 0, 0, ...  \\\n",
      "1        9              10  [12, 9, 9, 10, 11, 10, 11, 9, 10, 11, 12, 13, ...   \n",
      "2        4               5  [2, 3, 4, 5, 3, 6, 7, 2, 3, 3, 4, 5, 3, 4, 0, ...   \n",
      "3       13              14  [13, 14, 12, 12, 13, 14, 15, 12, 15, 0, 0, 0, ...   \n",
      "4       12              13  [10, 12, 13, 14, 15, 12, 14, 15, 10, 12, 13, 1...   \n",
      "\n",
      "   BrowserTime  Datetime  Month  Weekdays  Parttime  PosType  Weather  City   \n",
      "0         0.60  0.604167      8         0         3        3        0     0  \\\n",
      "1         0.12  0.447917      8         1         1        1        1    10   \n",
      "2         0.40  0.833333      8         2         4        0        2     1   \n",
      "3         1.00  0.510417      8         3         2        0        0     2   \n",
      "4         0.00  0.770833      8         4         3        1        1     3   \n",
      "\n",
      "      Search  Temp  Humidity  Windscale  Noise  \n",
      "0  深度学习与推荐系统     2         3          0      1  \n",
      "1   我国古代四大名著     1         3          0      2  \n",
      "2      孙悟空唐僧     0         4          1      1  \n",
      "3      逍遥游庄子     3         2          0      0  \n",
      "4   我国古代历史名著     2         2          1      2  \n",
      "Index(['curBook', 'positiveSample', 'bookHistory', 'BrowserTime', 'Datetime',\n",
      "       'Month', 'Weekdays', 'Parttime', 'PosType', 'Weather', 'City', 'Search',\n",
      "       'Temp', 'Humidity', 'Windscale', 'Noise'],\n",
      "      dtype='object')\n"
     ]
    }
   ],
   "source": [
    "import pandas as pd\n",
    "\n",
    "# 处理 'Month' 特征\n",
    "# 将 1-12 月映射为 0-11\n",
    "din_input['Month'] = df['Month'] - 1\n",
    "\n",
    "# 处理 'Weekdays' 特征\n",
    "# 将 '周一' 到 '周日' 映射为 0-6\n",
    "weekdays_mapping = {\n",
    "    '周一': 0,\n",
    "    '周二': 1,\n",
    "    '周三': 2,\n",
    "    '周四': 3,\n",
    "    '周五': 4,\n",
    "    '周六': 5,\n",
    "    '周日': 6\n",
    "}\n",
    "din_input['Weekdays'] = df['Weekdays'].map(weekdays_mapping)\n",
    "\n",
    "# 处理 'Parttime' 特征\n",
    "# 将 '清晨'、'上午'、'中午'、'下午'、'夜晚' 映射为 0-4\n",
    "parttime_mapping = {\n",
    "    '清晨': 0,\n",
    "    '上午': 1,\n",
    "    '中午': 2,\n",
    "    '下午': 3,\n",
    "    '夜晚': 4\n",
    "}\n",
    "din_input['Parttime'] = df['Parttime'].map(parttime_mapping)\n",
    "\n",
    "# 处理 'PosType' 特征\n",
    "# 将 '文学'、'历史'、'小说'、'科技'、'其他' 映射为 0-4\n",
    "postype_mapping = {\n",
    "    '文学': 0,\n",
    "    '历史': 1,\n",
    "    '小说': 2,\n",
    "    '科技': 3,\n",
    "    '其他': 4\n",
    "}\n",
    "din_input['PosType'] = df['PosType'].map(postype_mapping)\n",
    "\n",
    "# 处理 'Weather' 特征\n",
    "# 将天气类型映射为 0-6\n",
    "weather_mapping = {\n",
    "    '晴': 0,\n",
    "    '多云': 1,\n",
    "    '雨': 2,\n",
    "    '雪': 3,\n",
    "    '冰雹': 4,\n",
    "    '霜冻': 5,\n",
    "    '雾': 6\n",
    "}\n",
    "din_input['Weather'] = df['Weather'].map(weather_mapping)\n",
    "\n",
    "# 处理'city'特征\n",
    "city_mapping = {'北京': 0, '上海': 1, '广州': 2, '深圳': 3, '杭州': 4, '成都': 5, '重庆': 6, '西安': 7, '南京': 8, '苏州': 9, '武汉': 10} \n",
    "din_input['City'] = df['City'].apply(lambda x:x.strip()).map(city_mapping)\n",
    "\n",
    "# 处理 'Search' 特征\n",
    "din_input['Search'] = df['Search']\n",
    "\n",
    "# 处理 'Temp' 特征\n",
    "# 将温度等级映射为 0-3\n",
    "def temp_mapping(temprature):\n",
    "    return int(temprature / 10)    \n",
    "din_input['Temp'] = df['Temp'].map(temp_mapping)\n",
    "\n",
    "# 处理 'Humidity' 特征\n",
    "# 将湿度值映射为 0-4\n",
    "def encode_humidity(humidity):\n",
    "    return int(humidity / 20)\n",
    "din_input['Humidity'] = df['Humidity'].apply(encode_humidity)\n",
    "\n",
    "# 处理 'Windscale' 特征\n",
    "# 将风级区间映射为 0-3\n",
    "def windscale_mapping(windscale):\n",
    "    return int(windscale / 4)\n",
    "din_input['Windscale'] = df['Windscale'].map(windscale_mapping)\n",
    "\n",
    "# 处理 'Noise' 特征\n",
    "# 将噪音等级映射为 0-4\n",
    "def noise_mapping(noise):\n",
    "    return int(noise / 20)\n",
    "\n",
    "din_input['Noise'] = df['Noise'].map(noise_mapping)\n",
    "\n",
    "# 查看处理后的 din_input\n",
    "print(din_input.head())\n",
    "print(din_input.columns)"
   ]
  },
  {
   "cell_type": "markdown",
   "metadata": {},
   "source": [
    "### 读取 user profile 特征"
   ]
  },
  {
   "cell_type": "code",
   "execution_count": 35,
   "metadata": {},
   "outputs": [
    {
     "name": "stdout",
     "output_type": "stream",
     "text": [
      "Index(['curBook', 'positiveSample', 'bookHistory', 'BrowserTime', 'Datetime',\n",
      "       'Month', 'Weekdays', 'Parttime', 'PosType', 'Weather', 'City', 'Search',\n",
      "       'Temp', 'Humidity', 'Windscale', 'Noise', 'UserId', 'Name', 'Gender',\n",
      "       'Age', 'Education', 'Major', 'Marital', 'Interest'],\n",
      "      dtype='object')\n"
     ]
    }
   ],
   "source": [
    "din_input['UserId'] = df['UserId'] \n",
    "din_input['Name']= df['Name']\n",
    "din_input['Gender'] = df['Gender']\n",
    "din_input['Age'] = df['Age']\n",
    "din_input['Education'] = df['Education']\n",
    "din_input['Major'] = df['Major']\n",
    "din_input['Marital'] = df['Marital']\n",
    "din_input['Interest'] = df['Interest']\n",
    "print(din_input.columns)"
   ]
  }
 ],
 "metadata": {
  "kernelspec": {
   "display_name": "pytorch",
   "language": "python",
   "name": "python3"
  },
  "language_info": {
   "codemirror_mode": {
    "name": "ipython",
    "version": 3
   },
   "file_extension": ".py",
   "mimetype": "text/x-python",
   "name": "python",
   "nbconvert_exporter": "python",
   "pygments_lexer": "ipython3",
   "version": "3.9.16"
  }
 },
 "nbformat": 4,
 "nbformat_minor": 2
}
