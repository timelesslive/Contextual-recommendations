{
 "cells": [
  {
   "cell_type": "code",
   "execution_count": 2,
   "metadata": {},
   "outputs": [
    {
     "name": "stdout",
     "output_type": "stream",
     "text": [
      "{0:北京,1:上海,2:广州,3:深圳,4:杭州,5:成都,6:重庆,7:西安,8:南京,9:苏州,10:武汉} \n"
     ]
    }
   ],
   "source": [
    "s = \"{0：北京，1：上海，2：广州，3：深圳，4：杭州，5：成都，6:重庆，7：西安，8：南京，9：苏州，10：武汉} \"\n",
    "s = s.replace(\"：\",\":\")\n",
    "s = s.replace(\"，\",\",\")\n",
    "print(s)"
   ]
  },
  {
   "cell_type": "code",
   "execution_count": 4,
   "metadata": {},
   "outputs": [
    {
     "name": "stdout",
     "output_type": "stream",
     "text": [
      "{0:\"北京\",1:\"上海\",2:\"广州\",3:\"深圳\",4:\"杭州\",5:\"成都\",6:\"重庆\",7:\"西安\",8:\"南京\",9:\"苏州\",10:\"武汉\"}\" \"\n"
     ]
    }
   ],
   "source": [
    "import re\n",
    "result = re.sub(r'([^\\d:,{}]+)', r'\"\\1\"', s)\n",
    "print(result)"
   ]
  },
  {
   "cell_type": "code",
   "execution_count": 3,
   "metadata": {},
   "outputs": [
    {
     "name": "stdout",
     "output_type": "stream",
     "text": [
      "<class 'dict'>\n",
      "{'北京': 0, '上海': 1, '广州': 2, '深圳': 3, '杭州': 4, '成都': 5, '重庆': 6, '西安': 7, '南京': 8, '苏州': 9, '武汉': 10}\n"
     ]
    }
   ],
   "source": [
    "city_mapping = {0:\"北京\",1:\"上海\",2:\"广州\",3:\"深圳\",4:\"杭州\",5:\"成都\",6:\"重庆\",7:\"西安\",8:\"南京\",9:\"苏州\",10:\"武汉\"} \n",
    "print(type(city_mapping))\n",
    "recerse_city_mapping = {v:k for k,v in city_mapping.items()}\n",
    "print(recerse_city_mapping)"
   ]
  },
  {
   "cell_type": "code",
   "execution_count": 3,
   "metadata": {},
   "outputs": [
    {
     "name": "stdout",
     "output_type": "stream",
     "text": [
      "[[10.]\n",
      " [10.]\n",
      " [10.]]\n"
     ]
    }
   ],
   "source": [
    "import numpy as np \n",
    "batch_size = 3\n",
    "a = np.ones(shape=(batch_size, 1)) * 10\n",
    "print(a)"
   ]
  }
 ],
 "metadata": {
  "kernelspec": {
   "display_name": "test",
   "language": "python",
   "name": "python3"
  },
  "language_info": {
   "codemirror_mode": {
    "name": "ipython",
    "version": 3
   },
   "file_extension": ".py",
   "mimetype": "text/x-python",
   "name": "python",
   "nbconvert_exporter": "python",
   "pygments_lexer": "ipython3",
   "version": "3.9.16"
  }
 },
 "nbformat": 4,
 "nbformat_minor": 2
}
